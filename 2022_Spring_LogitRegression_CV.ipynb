{
 "cells": [
  {
   "cell_type": "code",
   "execution_count": 15,
   "metadata": {},
   "outputs": [],
   "source": [
    "import numpy as np\n",
    "import pandas as pd\n",
    "import matplotlib.pyplot as plt\n",
    "import math"
   ]
  },
  {
   "cell_type": "markdown",
   "metadata": {},
   "source": [
    "### Question 2"
   ]
  },
  {
   "cell_type": "code",
   "execution_count": 2,
   "metadata": {},
   "outputs": [],
   "source": [
    "def sigmoid_f(z):\n",
    "    exp = np.exp(-z)\n",
    "    return 1/(1+exp)\n",
    "\n",
    "#given an obs and weights\n",
    "#returns the probability of P(y=1)\n",
    "# with n = number of features\n",
    "#   weight matrix is nx1 shape\n",
    "#   and that X is r x n\n",
    "def hypothesis(X, W,bias):\n",
    "    # cast to np.array to ensure functions, get T\n",
    "    X = np.matrix(X).T\n",
    "    W = np.matrix(W).T\n",
    "\n",
    "    # eval Z matrix from weights\n",
    "    Z = np.dot(W,X) + bias #output shape 1 x obs\n",
    "    Z = Z.tolist()[0] #cast to simple list\n",
    "\n",
    "    Z = [sigmoid_f(z) for z in Z]\n",
    "    return Z\n",
    "\n",
    "#prediction\n",
    "def classifier_f(X, W,bias):\n",
    "    Z = hypothesis(X, W, bias)\n",
    "\n",
    "    #0.5 breakpoint\n",
    "    def logit_threshold(z):\n",
    "        if(z >= 0.5):\n",
    "            return 1\n",
    "        else:\n",
    "            return 0\n",
    "            \n",
    "    Z = [logit_threshold(z) for z in Z]\n",
    "    return Z\n"
   ]
  },
  {
   "cell_type": "code",
   "execution_count": null,
   "metadata": {},
   "outputs": [],
   "source": [
    "#assume Y is a flat (1xn) list, 2 class\n",
    "# returns Cross Entropy val\n",
    "def binary_loss_f(hypo, y):\n",
    "    hypo = np.matrix(hypo)  # hypothesis\n",
    "    y = np.matrix(y).T\n",
    "\n",
    "    val = np.sum(np.dot(np.log(hypo), y) +\n",
    "                 np.dot(np.log(1-hypo), 1-y))\n",
    "\n",
    "    return (-1/len(y))*val\n"
   ]
  },
  {
   "cell_type": "code",
   "execution_count": 13,
   "metadata": {},
   "outputs": [],
   "source": [
    "#Gradient calculator\n",
    "def gradient_f(X,W,b,y):\n",
    "    # n*1 shape\n",
    "    error = hypothesis(X, W, b)-y\n",
    "\n",
    "    grad_W = X.T.dot(error) / len(y)\n",
    "    grad_W = np.reshape(grad_W, (-1, 1))\n",
    "    grad_intercept = np.sum(error)/len(y)\n",
    "\n",
    "    return grad_W, grad_intercept\n"
   ]
  },
  {
   "cell_type": "code",
   "execution_count": 19,
   "metadata": {},
   "outputs": [],
   "source": [
    "#GRADIENT DESCENT\n",
    "def optimizer_f(max_iter, alpha,X,y):\n",
    "    #init\n",
    "    W = np.zeros((X.shape[1], 1))\n",
    "    max_iter = max_iter\n",
    "    alpha = alpha\n",
    "    b = 0\n",
    "    cost = None\n",
    "\n",
    "    #select best mechanism\n",
    "    best_W = W.copy()\n",
    "    best_b = 0\n",
    "    best_cost = binary_loss_f(hypothesis(\n",
    "        X, W, b), y)\n",
    "    hist_cost = []\n",
    "\n",
    "    for i in range(max_iter):\n",
    "        grads = gradient_f(X,W,b,y)\n",
    "        grad_W = grads[0]\n",
    "        grad_intercept = grads[1]\n",
    "\n",
    "        #updating \n",
    "        W = W - alpha*grad_W\n",
    "        b = b - alpha*grad_intercept\n",
    "\n",
    "        #select best mechanism\n",
    "        this_cost = binary_loss_f(hypothesis(\n",
    "            X, W, b), y)\n",
    "\n",
    "        #store best params\n",
    "        hist_cost.append(this_cost)\n",
    "        if(this_cost < best_cost):\n",
    "            best_cost = this_cost\n",
    "            best_W = W.copy()\n",
    "            best_b = b\n",
    "\n",
    "    W = best_W\n",
    "    cost = best_cost\n",
    "\n",
    "    return report(W,b,y, hist_cost,cost)\n",
    "\n",
    "def report(W,b,y, hist_cost,cost):\n",
    "    #report coef\n",
    "    print(\"Weights:\")\n",
    "    print(W.T)\n",
    "    print(\"y intercept:\")\n",
    "    print(b)\n",
    "\n",
    "    print(\"cost:\")\n",
    "    print(cost)\n",
    "    error = classifier_f(X, W, b)-Y\n",
    "    print(\"accuracy:\")\n",
    "    print(1-(sum(error)/len(error)))\n",
    "\n",
    "    # show plot\n",
    "    plt.plot(hist_cost)\n",
    "    plt.ylabel(\"score\")\n",
    "    plt.xlabel(\"iteration\")\n",
    "\n",
    "    return W,b\n"
   ]
  },
  {
   "cell_type": "code",
   "execution_count": 5,
   "metadata": {},
   "outputs": [],
   "source": [
    "from sklearn.datasets import load_breast_cancer\n",
    "from sklearn.preprocessing import MinMaxScaler\n",
    "\n",
    "#get data\n",
    "data = load_breast_cancer()\n",
    "Y = data.target # this is 0-1 binary, cannot normalize further\n",
    "X = data.data\n",
    "\n",
    "scaler = MinMaxScaler()\n",
    "X = scaler.fit_transform(X) # normalize X"
   ]
  },
  {
   "cell_type": "code",
   "execution_count": 20,
   "metadata": {},
   "outputs": [
    {
     "name": "stdout",
     "output_type": "stream",
     "text": [
      "Weights:\n",
      "[[-1.1434992  -1.30912899 -1.24649986 -1.57207726  0.4750165  -0.71928016\n",
      "  -2.48155437 -3.34113606  0.41115119  2.03552652 -1.64607791  0.46426397\n",
      "  -1.29014345 -1.22181241  0.5989249   0.91627859  0.51280409  0.27778245\n",
      "   0.7602846   0.93372269 -2.3582086  -2.14580201 -2.21834932 -2.15158438\n",
      "  -0.98440036 -1.12134051 -1.78357458 -3.27399809 -1.05564681 -0.1960431 ]]\n",
      "y intercept:\n",
      "7.596854589203278\n",
      "cost:\n",
      "0.12354588987961958\n",
      "accuracy:\n",
      "0.9824253075571178\n"
     ]
    },
    {
     "data": {
      "image/png": "[encoded data removed]",
      "text/plain": [
       "<Figure size 432x288 with 1 Axes>"
      ]
     },
     "metadata": {
      "needs_background": "light"
     },
     "output_type": "display_data"
    }
   ],
   "source": [
    "output = optimizer_f(10000,0.05,X,Y) #10k iter, 0.05 learning rate"
   ]
  },
  {
   "cell_type": "code",
   "execution_count": null,
   "metadata": {},
   "outputs": [],
   "source": [
    "#getting results\n",
    "weights = output[0].tolist()\n",
    "\n",
    "dict = {}\n",
    "for i in range(len(weights)):\n",
    "    dict[data.feature_names[i]] = weights[i]\n",
    "\n",
    "output[1]"
   ]
  },
  {
   "cell_type": "markdown",
   "metadata": {},
   "source": [
    "#'0 = malignant' and '1 = benign'.\n",
    "Ranked Weights:\n",
    "\n",
    "'mean fractal dimension': [2.0355265220523395],\n",
    "'fractal dimension error': [0.9337226886084741],\n",
    "'compactness error': [0.9162785853132651],\n",
    "'symmetry error': [0.7602846015281611],\n",
    "'smoothness error': [0.5989248972791296],\n",
    "'concavity error': [0.5128040934311626],\n",
    "'mean smoothness': [0.4750165032045297],\n",
    "'texture error': [0.4642639706439808],\n",
    "'mean symmetry': [0.41115119203402106],\n",
    "'concave points error': [0.2777824500100443],\n",
    "'worst fractal dimension': [-0.19604310332841782]\n",
    "'mean compactness': [-0.7192801606347963],\n",
    "'worst smoothness': [-0.9844003629135498],\n",
    "'worst symmetry': [-1.055646806870359],\n",
    "'worst compactness': [-1.1213405129065281],\n",
    "'area error': [-1.2218124071745537],\n",
    "'mean perimeter': [-1.2464998617198304],\n",
    "'perimeter error': [-1.2901434487276633],\n",
    "'mean texture': [-1.3091289907027561],\n",
    "'mean radius': [-1.1434992003641462],\n",
    "'mean area': [-1.5720772561423688],\n",
    "'radius error': [-1.6460779103249297],\n",
    "'worst concavity': [-1.783574582148665],\n",
    "'worst texture': [-2.145802008304591],\n",
    "'worst area': [-2.151584376781528],\n",
    "'worst perimeter': [-2.2183493181500524],\n",
    "'worst radius': [-2.358208604270848],\n",
    "'mean concavity': [-2.4815543695584337],\n",
    "'mean concave points': [-3.3411360559613303],\n",
    "'worst concave points': [-3.2739980898775736],\n",
    "\n",
    "All positive (indication for benign) variables are errors of different measurement except mean fractal dimension and mean symmetry. Mean fractal dimension also has the most significant positive coefficient, but we cannot infer much from this as there are many more variables with similarly significant but negative coefficients. \n",
    "\n",
    "The error measurements generally have weak (less than 1.0) coefficients and are consequently less significant to the classification. Mean or worst concavity have the most negative coefficients, followed by many of the “worst” measurements whose coefficients are relatively strong too.\n"
   ]
  },
  {
   "cell_type": "markdown",
   "metadata": {},
   "source": [
    "### Question 3"
   ]
  },
  {
   "cell_type": "code",
   "execution_count": 60,
   "metadata": {},
   "outputs": [],
   "source": [
    "from sklearn.metrics import mean_squared_error\n",
    "from sklearn.linear_model import LinearRegression\n",
    "import random\n",
    "random.seed(265)\n"
   ]
  },
  {
   "cell_type": "code",
   "execution_count": 62,
   "metadata": {},
   "outputs": [],
   "source": [
    "def TrainTest_split_CV(X,y,model,train_percent):\n",
    "    #random index\n",
    "    index = list(range(0, len(y)))\n",
    "    random.shuffle(index)\n",
    "\n",
    "    train_index = index[:int(len(y)*train_percent)]\n",
    "    test_index = index[int(len(y)*train_percent):]\n",
    "\n",
    "    #splitting dataset\n",
    "    train_X = np.take(X,train_index,0) #axis = 0, row-wise\n",
    "    train_y = np.take(y,train_index,0) #axis = 0, row-wise\n",
    "    test_X = np.take(X, test_index, 0) #axis = 0, row-wise\n",
    "    test_y = np.take(y, test_index, 0)  # axis = 0, row-wise\n",
    "\n",
    "    #running regression\n",
    "    model.fit(train_X, train_y)\n",
    "    prediction = model.predict(test_X)\n",
    "\n",
    "    return mean_squared_error(test_y, prediction)\n"
   ]
  },
  {
   "cell_type": "code",
   "execution_count": 223,
   "metadata": {},
   "outputs": [],
   "source": [
    "def KFold_CV(X, y, model, k):\n",
    "    #random index\n",
    "    index = list(range(0, len(y)))\n",
    "    random.shuffle(index)\n",
    "\n",
    "    folds_p = np.arange(0.0,1.0, 1.0/k)\n",
    "    folds_p = np.append(folds_p, 1.0)\n",
    "    folds_p = np.delete(folds_p, 0)\n",
    "\n",
    "    folds_costs = []\n",
    "    for i in range(len(folds_p)):\n",
    "        start = int(len(index)*(folds_p[i]-folds_p[0]))\n",
    "        end = int(len(index)*(folds_p[i]))\n",
    "\n",
    "        test_index = index[start:end]\n",
    "        train_index = index[end:]\n",
    "        b = index[:start]\n",
    "        for ind in b: train_index.append(ind)\n",
    "         \n",
    "        #splitting dataset\n",
    "        train_X = np.take(X, train_index, 0)  # axis = 0, row-wise\n",
    "        train_y = np.take(y, train_index, 0)  # axis = 0, row-wise\n",
    "        test_X = np.take(X, test_index, 0)  # axis = 0, row-wise\n",
    "        test_y = np.take(y, test_index, 0)  # axis = 0, row-wise\n",
    "\n",
    "        #running regression\n",
    "        model.fit(train_X, train_y)\n",
    "        prediction = model.predict(test_X)\n",
    "\n",
    "        folds_costs.append(mean_squared_error(test_y, prediction))\n",
    "\n",
    "\n",
    "    return sum(folds_costs)/len(folds_costs)  # avg cost\n"
   ]
  },
  {
   "cell_type": "code",
   "execution_count": 227,
   "metadata": {},
   "outputs": [],
   "source": [
    "def LOOCV(X, y, model):\n",
    "    #random index\n",
    "    k = len(y)\n",
    "    index = list(range(0, len(y)))\n",
    "    random.shuffle(index)\n",
    "\n",
    "    folds_costs = []\n",
    "    for i in range(len(index)):\n",
    "        this_index = index.copy()\n",
    "\n",
    "        test_index = this_index.pop(i)\n",
    "        train_index = this_index\n",
    "\n",
    "        #splitting dataset\n",
    "        train_X = np.take(X, train_index, 0)  # axis = 0, row-wise\n",
    "        train_y = np.take(y, train_index, 0)  # axis = 0, row-wise\n",
    "        test_X = np.take(X, test_index, 0)  # axis = 0, row-wise\n",
    "        test_y = np.take(y, test_index, 0)  # axis = 0, row-wise\n",
    "\n",
    "        #running regression\n",
    "        model.fit(train_X, train_y)\n",
    "        prediction = model.predict([test_X, test_X])[0]\n",
    "\n",
    "        folds_costs.append(mean_squared_error(test_y, prediction))\n",
    "\n",
    "    return sum(folds_costs)/len(folds_costs)  # avg cost\n"
   ]
  },
  {
   "cell_type": "code",
   "execution_count": 37,
   "metadata": {},
   "outputs": [],
   "source": [
    "from sklearn.datasets import fetch_california_housing\n",
    "\n",
    "#load and separate data\n",
    "calif = fetch_california_housing(as_frame=True)\n",
    "scaler = MinMaxScaler()\n",
    "\n",
    "data = scaler.fit_transform(calif.frame)  # normalizing\n",
    "\n",
    "X = data[:, 0:8]\n",
    "Y = data[:, [8]]\n"
   ]
  },
  {
   "cell_type": "code",
   "execution_count": 228,
   "metadata": {},
   "outputs": [
    {
     "name": "stdout",
     "output_type": "stream",
     "text": [
      "Train_test split 70% MSE:  0.0225709576136961\n",
      "5Fold MSE:  0.02242545356188667\n",
      "LOOCV MSE:  0.022456875235560322\n"
     ]
    }
   ],
   "source": [
    "model = LinearRegression()\n",
    "print(\"Train_test split 70% MSE: \", TrainTest_split_CV(X,Y,model,0.7))\n",
    "print(\"5Fold MSE: \", KFold_CV(X, Y, model, 5))\n",
    "print(\"LOOCV MSE: \", LOOCV(X, Y, model))\n"
   ]
  },
  {
   "cell_type": "markdown",
   "metadata": {},
   "source": [
    "All three techniques produces results with very similar, very low error: a very good performance. The low error suggests the model (linear regression) is not overfitting and has a similar level of complexity to the real world. \n",
    "\n",
    "Typically, we expect the model to perform worse when it has less training data. The difference of error in our case is very marginal. This shows that the model used here is adequate since the information lost from using only 70% of the data for training is very close to that of LOOCV which uses all but one observation for training. \n",
    "\n",
    "Granted, comparing performance in such a way is possible as the data set is simple (only 8 variables) and has a relatively large number of observations (20640 observations).\n"
   ]
  }
 ],
 "metadata": {
  "interpreter": {
   "hash": "5336f7fdd4288d794d8a223867d5c29f87bd1c8df6e341cc3223c0dba3028cf2"
  },
  "kernelspec": {
   "display_name": "Python 3.8.12 ('base')",
   "language": "python",
   "name": "python3"
  },
  "language_info": {
   "codemirror_mode": {
    "name": "ipython",
    "version": 3
   },
   "file_extension": ".py",
   "mimetype": "text/x-python",
   "name": "python",
   "nbconvert_exporter": "python",
   "pygments_lexer": "ipython3",
   "version": "3.8.12"
  },
  "orig_nbformat": 4
 },
 "nbformat": 4,
 "nbformat_minor": 2
}
