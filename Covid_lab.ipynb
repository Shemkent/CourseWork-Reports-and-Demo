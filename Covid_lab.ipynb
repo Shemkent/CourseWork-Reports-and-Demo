{
 "cells": [
  {
   "cell_type": "markdown",
   "metadata": {},
   "source": [
    "## Lab 3 Covid Tweet\n",
    "## Jiahang Wu and Qihao Yun\n"
   ]
  },
  {
   "cell_type": "code",
   "execution_count": 5,
   "metadata": {},
   "outputs": [],
   "source": [
    "import pandas as pd\n",
    "import numpy as np\n",
    "import time"
   ]
  },
  {
   "cell_type": "markdown",
   "metadata": {},
   "source": [
    "## Pt 1 Setup\n",
    "## Q1"
   ]
  },
  {
   "cell_type": "code",
   "execution_count": 6,
   "metadata": {},
   "outputs": [],
   "source": [
    "import re"
   ]
  },
  {
   "cell_type": "code",
   "execution_count": 24,
   "metadata": {},
   "outputs": [],
   "source": [
    "#data = pd.read_csv('us_tweets_sample.csv')\n",
    "tweets_us_df = pd.read_csv('us_tweets_sample.csv')"
   ]
  },
  {
   "cell_type": "code",
   "execution_count": 25,
   "metadata": {},
   "outputs": [],
   "source": [
    "us_states = pd.read_excel('us_states.xlsx')"
   ]
  },
  {
   "cell_type": "code",
   "execution_count": 26,
   "metadata": {},
   "outputs": [],
   "source": [
    "#start Timer\n",
    "start_time = time.time()"
   ]
  },
  {
   "cell_type": "code",
   "execution_count": 27,
   "metadata": {},
   "outputs": [],
   "source": [
    "#Drop duplicates\n",
    "#'status_id'\n",
    "tweets_us_df.drop_duplicates(subset='status_id')\n",
    "\n",
    "#select 500k random tweets\n",
    "tweets_us_df = tweets_us_df.sample(n=500000, random_state=42)\n",
    "\n",
    "#remove redundant col\n",
    "tweets_us_df = tweets_us_df.drop(columns='Unnamed: 0')"
   ]
  },
  {
   "cell_type": "code",
   "execution_count": 28,
   "metadata": {},
   "outputs": [],
   "source": [
    "#convert relevant columns to lower case\n",
    "tweets_us_df['location'] = tweets_us_df['location'].apply(lambda x: x.lower())\n",
    "tweets_us_df['state'] = tweets_us_df['state'].apply(lambda x: x.lower())\n",
    "us_states['state'] = us_states['state'].apply(lambda x: x.lower())\n",
    "us_states['region'] = us_states['region'].apply(lambda x: x.lower())"
   ]
  },
  {
   "cell_type": "code",
   "execution_count": 29,
   "metadata": {},
   "outputs": [],
   "source": [
    "count_of_state_in_location_col = []\n",
    "all_states = us_states['state'].tolist()\n",
    "all_states\n",
    "\n",
    "#takes a cell from table\n",
    "def count_state(x):\n",
    "    count = 0\n",
    "    x = str(x).strip().split(' ')\n",
    "\n",
    "    #for every token, remove all non alphabetic\n",
    "    for i in range(len(x)):\n",
    "        x[i] = re.sub(r\"[^a-zA-Z]\", \"\", x[i])\n",
    "    \n",
    "    state_found = ''  # init, to handle NYC,NY situation\n",
    "\n",
    "    #scan single token state name\n",
    "    for i in x:\n",
    "        if(i in all_states): \n",
    "            if(state_found == ''):\n",
    "                    state_found = i\n",
    "                    count += 1\n",
    "            elif(i == state_found):\n",
    "                pass\n",
    "    \n",
    "\n",
    "    #if none found, try double token names\n",
    "    if(count == 0):\n",
    "        #for every token\n",
    "        for i in range(len(x)):\n",
    "            #scan this and the one before\n",
    "            try:\n",
    "                text = x[i-1] + ' ' + x[i]\n",
    "                if(text in all_states):\n",
    "                    if(state_found == ''): \n",
    "                        state_found = text\n",
    "                        count += 1\n",
    "                    elif(text == state_found):\n",
    "                        pass\n",
    "            except:\n",
    "                pass\n",
    "    return count\n",
    "\n",
    "tweets_us_df['count'] = tweets_us_df['location'].apply(\n",
    "    lambda x: count_state(x))\n"
   ]
  },
  {
   "cell_type": "code",
   "execution_count": 30,
   "metadata": {},
   "outputs": [
    {
     "data": {
      "text/plain": [
       "<bound method IndexOpsMixin.tolist of 1569707               new jersey/new york\n",
       "1552175                oh(cleveland,oh)io\n",
       "321231             hawaii(lost in a echo)\n",
       "511250      wilmington  north.  carolina.\n",
       "497777                new york/new jersey\n",
       "                        ...              \n",
       "56376      63 york st. new haven, ct 0651\n",
       "1386072               new york/new jersey\n",
       "446162              new forest, hampshire\n",
       "998691                york, new brunswick\n",
       "100820             montrose. dakota south\n",
       "Name: location, Length: 180, dtype: object>"
      ]
     },
     "execution_count": 30,
     "metadata": {},
     "output_type": "execute_result"
    }
   ],
   "source": [
    "#examine excluded rows, dont run\n",
    "\n",
    "temp = tweets_us_df[tweets_us_df['count'] != 1]\n",
    "temp[['location','state']]\n",
    "[temp['location'].tolist, temp['state'].tolist]\n",
    "temp['location'].tolist\n",
    "\n",
    "# for i in temp['location'].tolist():\n",
    "#     print(i)\n",
    "\n",
    "#mostly tweets from the same few users; \n",
    "# there are a few that are actually single state but too \n",
    "# much effort to handle them individually\n",
    "\n",
    "#good enough\n"
   ]
  },
  {
   "cell_type": "code",
   "execution_count": 31,
   "metadata": {},
   "outputs": [],
   "source": [
    "#new df only include \n",
    "tweets_us_df = tweets_us_df[tweets_us_df['count'] == 1]\n",
    "\n",
    "elapsed_time = time.time() - start_time\n",
    "elapsed_time\n",
    "\n",
    "#8.718 second, excluding loading dataset\n"
   ]
  },
  {
   "cell_type": "code",
   "execution_count": 35,
   "metadata": {},
   "outputs": [
    {
     "data": {
      "text/plain": [
       "0.00036000000000002697"
      ]
     },
     "execution_count": 35,
     "metadata": {},
     "output_type": "execute_result"
    }
   ],
   "source": [
    "tweets_us_df.shape\n",
    "1.0 - 499820/500000\n",
    "\n",
    "#from 2000k, selected 500k\n",
    "#shaved off 0.03% tweets that have multiple locations \n"
   ]
  },
  {
   "cell_type": "markdown",
   "metadata": {},
   "source": [
    "## Q2"
   ]
  },
  {
   "cell_type": "code",
   "execution_count": null,
   "metadata": {},
   "outputs": [],
   "source": [
    "df2 = tweets_us_df.copy()"
   ]
  },
  {
   "cell_type": "code",
   "execution_count": 39,
   "metadata": {},
   "outputs": [],
   "source": [
    "df2 = df2.drop(columns='count')"
   ]
  },
  {
   "cell_type": "code",
   "execution_count": 85,
   "metadata": {},
   "outputs": [],
   "source": [
    "#start Timer\n",
    "start_time = time.time()"
   ]
  },
  {
   "cell_type": "code",
   "execution_count": 86,
   "metadata": {},
   "outputs": [],
   "source": [
    "#add day\n",
    "df2['day'] = df2['created_at'].apply(\n",
    "    lambda x: list(x.split(' '))[0])\n"
   ]
  },
  {
   "cell_type": "code",
   "execution_count": 87,
   "metadata": {},
   "outputs": [],
   "source": [
    "#reclycing method\n",
    "def extract_state(x):\n",
    "    count = 0\n",
    "    x = str(x).strip().split(' ')\n",
    "\n",
    "    #for every token, remove all non alphabetic\n",
    "    for i in range(len(x)):\n",
    "        x[i] = re.sub(r\"[^a-zA-Z]\", \"\", x[i])\n",
    "    \n",
    "    state_found = ''  # init, to handle NYC,NY situation\n",
    "\n",
    "    #scan single token state name\n",
    "    for i in x:\n",
    "        if(i in all_states): \n",
    "            if(state_found == ''):\n",
    "                    state_found = i\n",
    "                    count += 1\n",
    "            elif(i == state_found):\n",
    "                pass\n",
    "    \n",
    "\n",
    "    #if none found, try double token names\n",
    "    if(count == 0):\n",
    "        #for every token\n",
    "        for i in range(len(x)):\n",
    "            #scan this and the one before\n",
    "            try:\n",
    "                text = x[i-1] + ' ' + x[i]\n",
    "                if(text in all_states):\n",
    "                    if(state_found == ''): \n",
    "                        state_found = text\n",
    "                        count += 1\n",
    "                    elif(text == state_found):\n",
    "                        pass\n",
    "            except:\n",
    "                pass\n",
    "    \n",
    "    # region = us_states[us_states['state'] == state_found]['region']\n",
    "    # region = region.iloc[0]\n",
    "    region = state_region.get(state_found)\n",
    "    \n",
    "    return state_found\n",
    "\n",
    "\n",
    "def extract_region(x):\n",
    "    count = 0\n",
    "    x = str(x).strip().split(' ')\n",
    "\n",
    "    #for every token, remove all non alphabetic\n",
    "    for i in range(len(x)):\n",
    "        x[i] = re.sub(r\"[^a-zA-Z]\", \"\", x[i])\n",
    "\n",
    "    state_found = ''  # init, to handle NYC,NY situation\n",
    "\n",
    "    #scan single token state name\n",
    "    for i in x:\n",
    "        if(i in all_states):\n",
    "            if(state_found == ''):\n",
    "                state_found = i\n",
    "                count += 1\n",
    "            elif(i == state_found):\n",
    "                pass\n",
    "\n",
    "    #if none found, try double token names\n",
    "    if(count == 0):\n",
    "        #for every token\n",
    "        for i in range(len(x)):\n",
    "            #scan this and the one before\n",
    "            try:\n",
    "                text = x[i-1] + ' ' + x[i]\n",
    "                if(text in all_states):\n",
    "                    if(state_found == ''):\n",
    "                        state_found = text\n",
    "                        count += 1\n",
    "                    elif(text == state_found):\n",
    "                        pass\n",
    "            except:\n",
    "                pass\n",
    "\n",
    "    # region = us_states[us_states['state'] == state_found]['region']\n",
    "    # region = region.iloc[0]\n",
    "    region = state_region.get(state_found)\n",
    "\n",
    "    return str(region)\n",
    "\n",
    "#build a dict to improve cost\n",
    "state_region = {}\n",
    "for state in us_states['state'].tolist():\n",
    "    region = us_states[us_states['state'] == state]['region']\n",
    "    state_region[state] = (region.tolist())[0]\n",
    "\n"
   ]
  },
  {
   "cell_type": "code",
   "execution_count": 88,
   "metadata": {},
   "outputs": [],
   "source": [
    "df2['state'] = df2['location'].apply(\n",
    "    lambda x: extract_state(x))\n"
   ]
  },
  {
   "cell_type": "code",
   "execution_count": 89,
   "metadata": {},
   "outputs": [],
   "source": [
    "df2['region'] = df2['location'].apply(\n",
    "    lambda x: extract_region(x))\n"
   ]
  },
  {
   "cell_type": "code",
   "execution_count": 90,
   "metadata": {},
   "outputs": [
    {
     "data": {
      "text/plain": [
       "12.850919723510742"
      ]
     },
     "execution_count": 90,
     "metadata": {},
     "output_type": "execute_result"
    }
   ],
   "source": [
    "elapsed_time = time.time() - start_time\n",
    "elapsed_time\n",
    "\n",
    "#elapsed 12.85 sec"
   ]
  },
  {
   "cell_type": "code",
   "execution_count": 108,
   "metadata": {},
   "outputs": [],
   "source": [
    "tweets_us_df = df2.copy() #apply prev changes"
   ]
  },
  {
   "cell_type": "markdown",
   "metadata": {},
   "source": [
    "## Pt 2\n",
    "## Q3"
   ]
  },
  {
   "cell_type": "code",
   "execution_count": 3,
   "metadata": {},
   "outputs": [],
   "source": [
    "import sys\n",
    "#!{sys.executable} -m pip install emoji\n",
    "import nltk\n",
    "import emoji\n",
    "import string\n",
    "#nltk.download('stopwords')\n",
    "from nltk.corpus import stopwords\n",
    "stopwords = stopwords.words('english')\n"
   ]
  },
  {
   "cell_type": "code",
   "execution_count": 20,
   "metadata": {},
   "outputs": [],
   "source": [
    "def tweet_cleaner(text):\n",
    "    text = text.split(' ')\n",
    "    clean_tweets = []\n",
    "    #clean_tweet = ''\n",
    "    \n",
    "    for tweet in text:\n",
    "        # 1) Convert the tweet to lowercase.\n",
    "        tweet = str(tweet).lower()\n",
    "        #tweet = tweet.lower()\n",
    "\n",
    "        # 2) Remove the first two characters from the tweet (which is ‘b) – if you see it.\n",
    "        tweet = re.sub(\"‘b\",\"\",tweet)\n",
    "        \n",
    "        # 3) Remove all hashtags (all the words that start with ‘#’).\n",
    "        tweet = re.sub(\"@[A-Za-z0-9]+\",\"\",tweet)\n",
    "        tweet = re.sub(\"#[A-Za-z0-9]+\",\"\",tweet)\n",
    "        \n",
    "        # 4) Remove punctuation from the tweet\n",
    "\n",
    "        tweet = re.sub(r\"[^a-zA-Z]\", \"\", tweet)\n",
    "        #tweet = tweet.translate(str.maketrans('', '', string.punctuation))       \n",
    "        \n",
    "        # 5) Remove stop words from the tweet2\n",
    "        # (Describe what stop words are in your comments\n",
    "        # and your report).\n",
    "        tweet = ' '.join([word for word in tweet.split() if word not in stopwords])\n",
    "\n",
    "        #Stop words are words that are considered unimportant to the meaning of a text. \n",
    "        #These words may seem important to us, humans, but to machine these words may be considered nuisance to the processing steps.\n",
    "\n",
    "        # 6) Delete all words that are 3 letters long or shorter.\n",
    "        tweet = re.sub(r'\\b\\w{1,3}\\b', '', tweet)\n",
    "\n",
    "        # 7) Remove all links (all the words for which the first four letters are ‘http’).\n",
    "        tweet = re.sub(r\"http\\S+\", \"\", tweet)\n",
    "        \n",
    "        # 8) Remove all emojis (all the words that contain ‘\\\\’).\n",
    "        emoj = re.compile(\"[\"\n",
    "            u\"\\U0001F600-\\U0001F64F\"  # emoticons\n",
    "            u\"\\U0001F300-\\U0001F5FF\"  # symbols & pictographs\n",
    "            u\"\\U0001F680-\\U0001F6FF\"  # transport & map symbols\n",
    "            u\"\\U0001F1E0-\\U0001F1FF\"  # flags (iOS)\n",
    "            u\"\\U00002500-\\U00002BEF\"  # chinese char\n",
    "            u\"\\U00002702-\\U000027B0\"\n",
    "            u\"\\U00002702-\\U000027B0\"\n",
    "            u\"\\U000024C2-\\U0001F251\"\n",
    "            u\"\\U0001f926-\\U0001f937\"\n",
    "            u\"\\U00010000-\\U0010ffff\"\n",
    "            u\"\\u2640-\\u2642\" \n",
    "            u\"\\u2600-\\u2B55\"\n",
    "            u\"\\u200d\"\n",
    "            u\"\\u23cf\"\n",
    "            u\"\\u23e9\"\n",
    "            u\"\\u231a\"\n",
    "            u\"\\ufe0f\"  # dingbats\n",
    "            u\"\\u3030\"\n",
    "                          \"]+\", re.UNICODE)\n",
    "        tweet = re.sub(emoj, '', tweet)\n",
    "        \n",
    "        clean_tweets.append(tweet)\n",
    "        \n",
    "    clean_tweets = ' '.join(clean_tweets)\n",
    "    \n",
    "    return clean_tweets\n",
    "\n",
    "#     df.to_csv('') #Specify location\n",
    "\n"
   ]
  },
  {
   "cell_type": "markdown",
   "metadata": {},
   "source": [
    "## Q4 (apply clean + lemmatize)"
   ]
  },
  {
   "cell_type": "code",
   "execution_count": null,
   "metadata": {},
   "outputs": [],
   "source": [
    "#import nltk\n",
    "# nltk.download('punkt')\n",
    "# nltk.download('averaged_perceptron_tagger')\n",
    "# nltk.download('wordnet')"
   ]
  },
  {
   "cell_type": "code",
   "execution_count": 1,
   "metadata": {},
   "outputs": [],
   "source": [
    "from nltk.stem import WordNetLemmatizer\n",
    "from nltk.tokenize import word_tokenize\n",
    "from nltk.corpus import wordnet"
   ]
  },
  {
   "cell_type": "code",
   "execution_count": 2,
   "metadata": {},
   "outputs": [],
   "source": [
    "lemmatizer = WordNetLemmatizer()\n",
    "\n",
    "##Tags the words in the tweets\n",
    "def nltk_tag_to_wordnet_tag(nltk_tag):\n",
    "    if nltk_tag.startswith('J'):\n",
    "        return(wordnet.ADJ)\n",
    "    elif nltk_tag.startswith('V'):\n",
    "        return(wordnet.VERB)\n",
    "    elif nltk_tag.startswith('N'):\n",
    "        return(wordnet.NOUN)\n",
    "    elif nltk_tag.startswith('R'):\n",
    "        return(wordnet.ADV)\n",
    "    else:          \n",
    "        return(None)\n",
    "\n",
    "##Lemmatizes the words in tweets and returns the cleaned and lemmatized tweet\n",
    "def lemmatize_tweet(tweet):\n",
    "    #tokenize the tweet and find the POS tag for each token\n",
    "    \n",
    "    #tweet = tweet_cleaner(tweet) #tweet_cleaner() will be the function you will write\n",
    "    \n",
    "    nltk_tagged = nltk.pos_tag(nltk.word_tokenize(str(tweet))) \n",
    "    #tuple of (token, wordnet_tag)\n",
    "    wordnet_tagged = map(lambda x: (x[0], nltk_tag_to_wordnet_tag(x[1])), nltk_tagged)\n",
    "    lemmatized_tweet = []\n",
    "    for word, tag in wordnet_tagged:\n",
    "        if tag is None:\n",
    "            #if there is no available tag, append the token as is\n",
    "            lemmatized_tweet.append(word)\n",
    "        else:        \n",
    "            #else use the tag to lemmatize the token\n",
    "            lemmatized_tweet.append(lemmatizer.lemmatize(word, tag))\n",
    "    return(\" \".join(lemmatized_tweet))\n",
    "\n"
   ]
  },
  {
   "cell_type": "code",
   "execution_count": 128,
   "metadata": {},
   "outputs": [],
   "source": [
    "#test df\n",
    "df3 = tweets_us_df.sample(n=5, random_state=42)"
   ]
  },
  {
   "cell_type": "code",
   "execution_count": 140,
   "metadata": {},
   "outputs": [],
   "source": [
    "def clean_and_lemmatize(x):\n",
    "    x = tweet_cleaner(x)\n",
    "    x = lemmatize_tweet(x)\n",
    "    \n",
    "    return x\n"
   ]
  },
  {
   "cell_type": "code",
   "execution_count": 143,
   "metadata": {},
   "outputs": [
    {
     "data": {
      "text/plain": [
       "1553.239752292633"
      ]
     },
     "execution_count": 143,
     "metadata": {},
     "output_type": "execute_result"
    }
   ],
   "source": [
    "Q4_start_time = time.time()\n",
    "\n",
    "#df3['text_clean'] = df3['text'].apply(lambda x: clean_and_lemmatize(x))\n",
    "tweets_us_df['text_clean'] = tweets_us_df['text'].apply(\n",
    "    lambda x: clean_and_lemmatize(x))\n",
    "\n",
    "Q4_elapsed_time = time.time() - Q4_start_time\n",
    "Q4_elapsed_time\n",
    "\n",
    "#took 1553.2397 sec\n"
   ]
  },
  {
   "cell_type": "code",
   "execution_count": 139,
   "metadata": {},
   "outputs": [
    {
     "data": {
      "text/plain": [
       "1639336    lockdown mistakeits valid question good point ...\n",
       "642599     chris christieka conway last doozy desperate r...\n",
       "1531087    wendi open twitter first tweet condolence fami...\n",
       "1419321    heartbreaking talk teenager friends go hallowe...\n",
       "268403                                           thank great\n",
       "Name: text_clean, dtype: object"
      ]
     },
     "execution_count": 139,
     "metadata": {},
     "output_type": "execute_result"
    }
   ],
   "source": [
    "df3['text_clean']\n"
   ]
  },
  {
   "cell_type": "code",
   "execution_count": 144,
   "metadata": {},
   "outputs": [],
   "source": [
    "#tweets_us_df.to_pickle('./q4_pickle')\n",
    "#preserve result so far which would need 30min to run again"
   ]
  },
  {
   "cell_type": "markdown",
   "metadata": {},
   "source": [
    "## Q5"
   ]
  },
  {
   "cell_type": "code",
   "execution_count": 7,
   "metadata": {},
   "outputs": [],
   "source": [
    "# 1) Import the topic dictionaries. You can call the files topic_name_df (e.g. isolation_df etc.).\n",
    "disinfectant_df = pd.read_excel('disinfectant_words.xlsx')\n",
    "isolation_df = pd.read_excel('isolation_words.xlsx')\n",
    "medicine_df = pd.read_excel('medicine_words.xlsx')\n",
    "vaccine_df = pd.read_excel('vaccine_words.xlsx')\n",
    "\n",
    "# 2) Convert the words in topic lists into lowercase.\n",
    "disinfectant_df['words'] = disinfectant_df['words'].str.lower()\n",
    "isolation_df['words'] = isolation_df['words'].str.lower()\n",
    "medicine_df['words'] = medicine_df['words'].str.lower()\n",
    "vaccine_df['words'] = vaccine_df['words'].str.lower()"
   ]
  },
  {
   "cell_type": "code",
   "execution_count": 9,
   "metadata": {},
   "outputs": [
    {
     "data": {
      "text/plain": [
       "2.6356282234191895"
      ]
     },
     "execution_count": 9,
     "metadata": {},
     "output_type": "execute_result"
    }
   ],
   "source": [
    "start_time = time.time()\n",
    "\n",
    "# 3) Tag and lemmatize the words in topic lists.\n",
    "disinfectant_df['words'] = lemmatize_tweet(' '.join(\n",
    "    disinfectant_df['words'].tolist()))\n",
    "isolation_df['words'] = lemmatize_tweet(' '.join(\n",
    "    isolation_df['words'].tolist()))\n",
    "medicine_df['words'] = lemmatize_tweet(' '.join(\n",
    "    medicine_df['words'].tolist()))\n",
    "vaccine_df['words'] = lemmatize_tweet(' '.join(\n",
    "    vaccine_df['words'].tolist()))\n",
    "\n",
    "elapsed_time = time.time() - start_time\n",
    "elapsed_time\n",
    "#2.6356\n"
   ]
  },
  {
   "cell_type": "code",
   "execution_count": 10,
   "metadata": {},
   "outputs": [],
   "source": [
    "# 4) Take a look at the cosine_similarity.py file provided in the assignment folder.\n",
    "import math\n",
    "import re\n",
    "from collections import Counter\n",
    "\n",
    "WORD = re.compile(r\"\\w+\")\n",
    "\n",
    "\n",
    "def get_cosine(vec1, vec2):\n",
    "    intersection = set(vec1.keys()) & set(vec2.keys())\n",
    "    numerator = sum([vec1[x] * vec2[x] for x in intersection])\n",
    "\n",
    "    sum1 = sum([vec1[x] ** 2 for x in list(vec1.keys())])\n",
    "    sum2 = sum([vec2[x] ** 2 for x in list(vec2.keys())])\n",
    "    denominator = math.sqrt(sum1) * math.sqrt(sum2)\n",
    "\n",
    "    if not denominator:\n",
    "        return 0.0\n",
    "    else:\n",
    "        return float(numerator) / denominator\n",
    "\n",
    "\n",
    "def text_to_vector(text):\n",
    "    words = WORD.findall(text)\n",
    "    return Counter(words)\n",
    "    \n",
    "##Example\n",
    "##cosine_score = get_cosine(text_to_vector(clean_tweet), text_to_vector(\" \".join(topic_words)))\n",
    "##topic_words is a list of words; clean_tweet is a string"
   ]
  },
  {
   "cell_type": "code",
   "execution_count": 26,
   "metadata": {},
   "outputs": [],
   "source": [
    "q4_pickled = pd.read_pickle('./q4_pickle')\n"
   ]
  },
  {
   "cell_type": "code",
   "execution_count": 57,
   "metadata": {},
   "outputs": [],
   "source": [
    "#tweets_us_df = q4_pickled.sample(n=100, random_state=42)\n",
    "tweets_us_df = q4_pickled\n"
   ]
  },
  {
   "cell_type": "code",
   "execution_count": 58,
   "metadata": {},
   "outputs": [],
   "source": [
    "Q5_start_time = time.time()\n",
    "\n",
    "# 5) Calculate the cosine similarity scores for each topic by iterating through the text_clean\n",
    "# column and the topic dictionaries (you should calculate cosine similarities by using one\n",
    "# tweet and the topic words in dictionaries).\n",
    "\n",
    "#tweets_us_df.loc[1639336]\n",
    "\n",
    "disinfectant_vec = text_to_vector(\" \".join(disinfectant_df['words']))\n",
    "isolation_vec = text_to_vector(\" \".join(isolation_df['words']))\n",
    "medicine_vec = text_to_vector(\" \".join(medicine_df['words']))\n",
    "vaccine_vec = text_to_vector(\" \".join(vaccine_df['words']))\n",
    "\n",
    "def get_score(text,topic_vector):\n",
    "    text = text_to_vector(text)\n",
    "    score = get_cosine(text,topic_vector)\n",
    "\n",
    "    return score"
   ]
  },
  {
   "cell_type": "code",
   "execution_count": 59,
   "metadata": {},
   "outputs": [],
   "source": [
    "# 6) Save the results for cosine similarity scores in four different columns: disinfectant_cosine,\n",
    "# isolation_cosine, medicine_cosine, vaccine_cosine.\n",
    "\n",
    "tweets_us_df['disinfectant_cosine'] = tweets_us_df['text_clean'].apply(\n",
    "    lambda x: get_score(x, disinfectant_vec))\n",
    "tweets_us_df['isolation_cosine'] = tweets_us_df['text_clean'].apply(\n",
    "    lambda x: get_score(x, isolation_vec))\n",
    "tweets_us_df['medicine_cosine'] = tweets_us_df['text_clean'].apply(\n",
    "    lambda x: get_score(x, medicine_vec))\n",
    "tweets_us_df['vaccine_cosine'] = tweets_us_df['text_clean'].apply(\n",
    "    lambda x: get_score(x, vaccine_vec))\n",
    "\n",
    "#this works\n"
   ]
  },
  {
   "cell_type": "code",
   "execution_count": 60,
   "metadata": {},
   "outputs": [],
   "source": [
    "# 7) normalize the cosine similarity\n",
    "# scores to a range of 0-1 (the lowest cosine similarity score in your dataset should be equal\n",
    "# to 0, and the highest cosine similarity score should be equal to 1).\n",
    "\n",
    "disinfectant_cosine = np.asarray(tweets_us_df['disinfectant_cosine'].tolist())\n",
    "isolation_cosine = np.asarray(tweets_us_df['isolation_cosine'].tolist())\n",
    "medicine_cosine = np.asarray(tweets_us_df['medicine_cosine'].tolist())\n",
    "vaccine_cosine = np.asarray(tweets_us_df['vaccine_cosine'].tolist())\n",
    "\n",
    "def normalize_self(arr):\n",
    "    norm = (arr - arr.min())/(arr.max() - arr.min())\n",
    "    return norm\n",
    "\n",
    "\n",
    "disinfectant_cosine_normal = normalize_self(disinfectant_cosine)\n",
    "isolation_cosine_normal = normalize_self(isolation_cosine)\n",
    "medicine_cosine_normal = normalize_self(medicine_cosine)\n",
    "vaccine_cosine_normal = normalize_self(vaccine_cosine)\n"
   ]
  },
  {
   "cell_type": "code",
   "execution_count": 61,
   "metadata": {},
   "outputs": [
    {
     "data": {
      "text/plain": [
       "318.6927607059479"
      ]
     },
     "execution_count": 61,
     "metadata": {},
     "output_type": "execute_result"
    }
   ],
   "source": [
    "# # 8) Save the normalized scores in four new columns: disinfectant_cosine_normal,\n",
    "# # isolation_cosine_normal, medicine_cosine_normal, vaccine_cosine_normal.\n",
    "\n",
    "tweets_us_df['disinfectant_cosine_normal'] = disinfectant_cosine_normal\n",
    "tweets_us_df['isolation_cosine_normal'] = isolation_cosine_normal\n",
    "tweets_us_df['medicine_cosine_normal'] = medicine_cosine_normal\n",
    "tweets_us_df['vaccine_cosine_normal'] = vaccine_cosine_normal\n",
    "\n",
    "elapsed_time = time.time() - Q5_start_time\n",
    "elapsed_time\n",
    "\n",
    "#318.6927\n"
   ]
  },
  {
   "cell_type": "code",
   "execution_count": 63,
   "metadata": {},
   "outputs": [],
   "source": [
    "tweets_us_df.to_pickle('./q5_pickle')\n"
   ]
  },
  {
   "cell_type": "markdown",
   "metadata": {},
   "source": [
    "## Q6"
   ]
  },
  {
   "cell_type": "code",
   "execution_count": 64,
   "metadata": {},
   "outputs": [],
   "source": [
    "#Q6 code sphagetti\n",
    "# no it's just repeat the same process for three \n",
    "Q6_start_time = time.time()\n",
    "\n",
    "day = tweets_us_df['day'].tolist()\n",
    "df_day = pd.DataFrame([day,tweets_us_df['disinfectant_cosine_normal'].tolist(),tweets_us_df['isolation_cosine_normal'].tolist(),tweets_us_df['medicine_cosine_normal'].tolist(),tweets_us_df['vaccine_cosine_normal'].tolist()]).transpose()\n",
    "df_day.columns = ['day','disinfectant_cosine_normal','isolation_cosine_normal','medicine_cosine_normal','vaccine_cosine_normal']\n",
    "df_day['disinfectant_cosine_normal'] = df_day['disinfectant_cosine_normal'].astype(float)\n",
    "df_day['isolation_cosine_normal'] = df_day['isolation_cosine_normal'].astype(float)\n",
    "df_day['medicine_cosine_normal'] = df_day['medicine_cosine_normal'].astype(float)\n",
    "df_day['vaccine_cosine_normal'] = df_day['vaccine_cosine_normal'].astype(float)\n",
    "day_topic_score_df = df_day.groupby(['day']).mean()\n",
    "\n",
    "state = tweets_us_df['state'].tolist()\n",
    "df_state = pd.DataFrame([state,tweets_us_df['disinfectant_cosine_normal'].tolist(),tweets_us_df['isolation_cosine_normal'].tolist(),tweets_us_df['medicine_cosine_normal'].tolist(),tweets_us_df['vaccine_cosine_normal'].tolist()]).transpose()\n",
    "df_state.columns = ['state','disinfectant_cosine_normal','isolation_cosine_normal','medicine_cosine_normal','vaccine_cosine_normal']\n",
    "df_state['disinfectant_cosine_normal'] = df_state['disinfectant_cosine_normal'].astype(float)\n",
    "df_state['isolation_cosine_normal'] = df_state['isolation_cosine_normal'].astype(float)\n",
    "df_state['medicine_cosine_normal'] = df_state['medicine_cosine_normal'].astype(float)\n",
    "df_state['vaccine_cosine_normal'] = df_state['vaccine_cosine_normal'].astype(float)\n",
    "state_topic_score_df = df_state.groupby(['state']).mean()\n",
    "\n",
    "region = tweets_us_df['region'].tolist()\n",
    "df_region = pd.DataFrame([region,tweets_us_df['disinfectant_cosine_normal'].tolist(),tweets_us_df['isolation_cosine_normal'].tolist(),tweets_us_df['medicine_cosine_normal'].tolist(),tweets_us_df['vaccine_cosine_normal'].tolist()]).transpose()\n",
    "df_region.columns = ['region','disinfectant_cosine_normal','isolation_cosine_normal','medicine_cosine_normal','vaccine_cosine_normal']\n",
    "df_region['disinfectant_cosine_normal'] = df_region['disinfectant_cosine_normal'].astype(float)\n",
    "df_region['isolation_cosine_normal'] = df_region['isolation_cosine_normal'].astype(float)\n",
    "df_region['medicine_cosine_normal'] = df_region['medicine_cosine_normal'].astype(float)\n",
    "df_region['vaccine_cosine_normal'] = df_region['vaccine_cosine_normal'].astype(float)\n",
    "region_topic_score_df = df_region.groupby(['region']).mean()\n",
    "\n",
    "state_topic_score_df.to_csv('./state_topic_score_df.csv')\n",
    "region_topic_score_df.to_csv('./region_topic_score_df.csv')\n",
    "\n",
    "Q6_elapsed_time = time.time() - Q6_start_time\n",
    "#118.7140\n"
   ]
  },
  {
   "cell_type": "code",
   "execution_count": null,
   "metadata": {},
   "outputs": [],
   "source": [
    "state_topic_score_df\n"
   ]
  },
  {
   "cell_type": "code",
   "execution_count": 156,
   "metadata": {},
   "outputs": [
    {
     "name": "stdout",
     "output_type": "stream",
     "text": [
      "            disinfectant_cosine_normal  isolation_cosine_normal  \\\n",
      "day                                                               \n",
      "2020-04-17                    0.010326                 0.004084   \n",
      "2020-04-18                    0.007348                 0.004441   \n",
      "2020-04-19                    0.005437                 0.002866   \n",
      "2020-04-20                    0.006520                 0.003624   \n",
      "2020-04-21                    0.006036                 0.004117   \n",
      "...                                ...                      ...   \n",
      "2020-12-06                    0.007569                 0.003898   \n",
      "2020-12-07                    0.005141                 0.004304   \n",
      "2020-12-08                    0.004835                 0.004351   \n",
      "2020-12-09                    0.011848                 0.003548   \n",
      "2020-12-10                    0.005357                 0.002645   \n",
      "\n",
      "            medicine_cosine_normal  vaccine_cosine_normal  \n",
      "day                                                        \n",
      "2020-04-17                0.013125               0.012121  \n",
      "2020-04-18                0.012418               0.012849  \n",
      "2020-04-19                0.011926               0.013967  \n",
      "2020-04-20                0.013463               0.014508  \n",
      "2020-04-21                0.012565               0.013627  \n",
      "...                            ...                    ...  \n",
      "2020-12-06                0.011570               0.024145  \n",
      "2020-12-07                0.013293               0.033276  \n",
      "2020-12-08                0.013611               0.053865  \n",
      "2020-12-09                0.017434               0.051776  \n",
      "2020-12-10                0.009433               0.035408  \n",
      "\n",
      "[225 rows x 4 columns]\n"
     ]
    }
   ],
   "source": [
    "pd.set_option(\"display.max_rows\", 20)\n",
    "print(day_topic_score_df)\n",
    "#some time variaton "
   ]
  },
  {
   "cell_type": "code",
   "execution_count": null,
   "metadata": {},
   "outputs": [],
   "source": [
    "#q4_pickled = pd.read_pickle('./q4_pickle')\n"
   ]
  },
  {
   "cell_type": "markdown",
   "metadata": {},
   "source": [
    "## Pt V\n",
    "## Q7 Clustering"
   ]
  },
  {
   "cell_type": "code",
   "execution_count": 70,
   "metadata": {},
   "outputs": [],
   "source": [
    "import sklearn\n",
    "from sklearn.cluster import KMeans\n"
   ]
  },
  {
   "cell_type": "code",
   "execution_count": 101,
   "metadata": {},
   "outputs": [],
   "source": [
    "data = pd.read_csv('./state_topic_score_df.csv',index_col='state')"
   ]
  },
  {
   "cell_type": "code",
   "execution_count": 102,
   "metadata": {},
   "outputs": [],
   "source": [
    "#Kmeans clustering \n",
    "kmeans = KMeans(n_clusters=4, init='k-means++')\n",
    "kmeans.fit(data)\n",
    "labels = kmeans.labels_\n"
   ]
  },
  {
   "cell_type": "code",
   "execution_count": 97,
   "metadata": {},
   "outputs": [],
   "source": [
    "#add to labels to df by excel\n",
    "temp_df = pd.DataFrame({'labels': labels})\n",
    "temp_df.to_csv('./lables.csv')"
   ]
  },
  {
   "cell_type": "code",
   "execution_count": null,
   "metadata": {},
   "outputs": [],
   "source": [
    "#descriptive stat of the clusters\n",
    "data_kmeans = pd.read_csv('./state_topic_score_df_mod.csv', index_col='state')\n",
    "print(data_kmeans[data_kmeans['labels'] == 0].describe())\n",
    "print(data_kmeans[data_kmeans['labels'] == 1].describe())\n",
    "print(data_kmeans[data_kmeans['labels'] == 2].describe())\n",
    "print(data_kmeans[data_kmeans['labels'] == 3].describe())\n",
    "\n",
    "#data[data['labels']]\n"
   ]
  },
  {
   "cell_type": "code",
   "execution_count": 123,
   "metadata": {},
   "outputs": [
    {
     "name": "stdout",
     "output_type": "stream",
     "text": [
      "Index(['arkansas', 'california', 'florida', 'hawaii', 'iowa', 'louisiana',\n",
      "       'maine', 'minnesota', 'nebraska', 'nevada', 'new hampshire',\n",
      "       'north carolina', 'south carolina', 'utah', 'wisconsin', 'wyoming'],\n",
      "      dtype='object', name='state')\n",
      "Index(['alaska', 'delaware', 'mississippi', 'new mexico', 'new york',\n",
      "       'north dakota', 'washington'],\n",
      "      dtype='object', name='state')\n",
      "Index(['alabama', 'arizona', 'colorado', 'georgia', 'illinois', 'indiana',\n",
      "       'kansas', 'kentucky', 'massachusetts', 'michigan', 'missouri',\n",
      "       'montana', 'new jersey', 'ohio', 'oklahoma', 'oregon', 'pennsylvania',\n",
      "       'rhode island', 'south dakota', 'tennessee', 'vermont', 'virginia'],\n",
      "      dtype='object', name='state')\n",
      "Index(['connecticut', 'idaho', 'maryland', 'texas'], dtype='object', name='state')\n"
     ]
    }
   ],
   "source": [
    "#cluster members \n",
    "g1 = data_kmeans[data_kmeans['labels'] == 0]\n",
    "print(g1.index)\n",
    "g1 = data_kmeans[data_kmeans['labels'] == 1]\n",
    "print(g1.index)\n",
    "g1 = data_kmeans[data_kmeans['labels'] == 2]\n",
    "print(g1.index)\n",
    "g1 = data_kmeans[data_kmeans['labels'] == 3]\n",
    "print(g1.index)\n",
    "\n",
    "#no substantial difference across groups and do not break along geographical lines"
   ]
  },
  {
   "cell_type": "code",
   "execution_count": 125,
   "metadata": {},
   "outputs": [],
   "source": [
    "from sklearn.cluster import SpectralClustering\n"
   ]
  },
  {
   "cell_type": "code",
   "execution_count": 129,
   "metadata": {},
   "outputs": [],
   "source": [
    "#repeat process with spectral clsutering\n",
    "data = pd.read_csv('./state_topic_score_df.csv', index_col='state')\n",
    "\n",
    "clustering = SpectralClustering(n_clusters=4,\n",
    "    assign_labels='discretize',random_state=0).fit(data)\n",
    "\n",
    "clustering.labels_\n",
    "\n",
    "temp_df = pd.DataFrame({'labels': clustering.labels_})\n",
    "temp_df.to_csv('./lables_spectral.csv')\n"
   ]
  },
  {
   "cell_type": "code",
   "execution_count": null,
   "metadata": {},
   "outputs": [],
   "source": [
    "data_spectral = pd.read_csv('./state_topic_score_df_spec.csv', index_col='state')\n",
    "\n",
    "print(data_spectral[data_spectral['labels'] == 0].describe())\n",
    "print(data_spectral[data_spectral['labels'] == 1].describe())\n",
    "print(data_spectral[data_spectral['labels'] == 2].describe())\n",
    "print(data_spectral[data_spectral['labels'] == 3].describe())\n"
   ]
  },
  {
   "cell_type": "code",
   "execution_count": 131,
   "metadata": {},
   "outputs": [
    {
     "name": "stdout",
     "output_type": "stream",
     "text": [
      "Index(['alaska', 'connecticut', 'delaware', 'illinois', 'kansas',\n",
      "       'mississippi', 'new mexico', 'new york', 'north dakota', 'washington'],\n",
      "      dtype='object', name='state')\n",
      "Index(['arkansas', 'colorado', 'hawaii', 'idaho', 'iowa', 'maryland',\n",
      "       'minnesota', 'nebraska', 'new jersey', 'oklahoma', 'oregon',\n",
      "       'pennsylvania', 'rhode island', 'south dakota'],\n",
      "      dtype='object', name='state')\n",
      "Index(['alabama', 'georgia', 'indiana', 'kentucky', 'massachusetts',\n",
      "       'michigan', 'missouri', 'montana', 'ohio', 'tennessee', 'texas',\n",
      "       'vermont', 'virginia'],\n",
      "      dtype='object', name='state')\n",
      "Index(['arizona', 'california', 'florida', 'louisiana', 'maine', 'nevada',\n",
      "       'new hampshire', 'north carolina', 'south carolina', 'utah',\n",
      "       'wisconsin', 'wyoming'],\n",
      "      dtype='object', name='state')\n"
     ]
    }
   ],
   "source": [
    "g1 = data_spectral[data_spectral['labels'] == 0]\n",
    "print(g1.index)\n",
    "g1 = data_spectral[data_spectral['labels'] == 1]\n",
    "print(g1.index)\n",
    "g1 = data_spectral[data_spectral['labels'] == 2]\n",
    "print(g1.index)\n",
    "g1 = data_spectral[data_spectral['labels'] == 3]\n",
    "print(g1.index)\n",
    "\n",
    "#similar behavior as kmeans, as far as geography is concerned\n"
   ]
  },
  {
   "cell_type": "markdown",
   "metadata": {},
   "source": [
    "## Q8 Calinski-Harabasz score"
   ]
  },
  {
   "cell_type": "code",
   "execution_count": 138,
   "metadata": {},
   "outputs": [],
   "source": [
    "from sklearn import metrics\n"
   ]
  },
  {
   "cell_type": "code",
   "execution_count": 147,
   "metadata": {},
   "outputs": [
    {
     "name": "stdout",
     "output_type": "stream",
     "text": [
      "n= 2 :  CH score:  40.28087493296904\n",
      "n= 3 :  CH score:  33.88324060652785\n",
      "n= 4 :  CH score:  28.770266957850684\n",
      "n= 5 :  CH score:  26.039812913322812\n",
      "n= 6 :  CH score:  25.12315671236417\n",
      "n= 7 :  CH score:  23.964389758742353\n",
      "n= 8 :  CH score:  24.035812419410693\n",
      "n= 9 :  CH score:  22.75832031819815\n",
      "n= 10 :  CH score:  23.68532729243111\n",
      "n= 11 :  CH score:  21.281723873861772\n",
      "n= 12 :  CH score:  22.079428454147326\n",
      "n= 13 :  CH score:  22.374891782226474\n",
      "n= 14 :  CH score:  21.284887988103975\n",
      "n= 15 :  CH score:  22.215462878160203\n",
      "n= 16 :  CH score:  21.191903637121126\n",
      "n= 17 :  CH score:  22.0566186294911\n",
      "n= 18 :  CH score:  22.124065918004977\n",
      "n= 19 :  CH score:  22.276117106430924\n",
      "n= 20 :  CH score:  22.172799718332904\n"
     ]
    }
   ],
   "source": [
    "kmeans_CH = []\n",
    "for n in range(2, 21):\n",
    "    data_copy = data.copy()\n",
    "    kmeans = KMeans(n_clusters=n, init='k-means++')\n",
    "    kmeans.fit(data)\n",
    "    labels = kmeans.labels_\n",
    "\n",
    "    #2)\n",
    "    CHScore = metrics.calinski_harabasz_score(data, labels)\n",
    "\n",
    "    print('n=', n, ': ', 'CH score: ', CHScore)\n",
    "    kmeans_CH.append(CHScore)\n",
    "    #print(type(labels))\n",
    "\n",
    "# it appears that n=2 is optimal in kmeans\n"
   ]
  },
  {
   "cell_type": "code",
   "execution_count": 146,
   "metadata": {},
   "outputs": [
    {
     "name": "stdout",
     "output_type": "stream",
     "text": [
      "n= 2 :  CH score:  40.40686143688053\n",
      "n= 3 :  CH score:  17.48402539749388\n",
      "n= 4 :  CH score:  15.556286821466067\n",
      "n= 5 :  CH score:  11.297368695781156\n",
      "n= 6 :  CH score:  11.882393801125465\n",
      "n= 7 :  CH score:  6.969049802425883\n",
      "n= 8 :  CH score:  8.063963474761998\n",
      "n= 9 :  CH score:  4.945256427516498\n",
      "n= 10 :  CH score:  4.343000794404599\n",
      "n= 11 :  CH score:  5.529505003700647\n",
      "n= 12 :  CH score:  6.1356963776508335\n",
      "n= 13 :  CH score:  4.841510158023866\n",
      "n= 14 :  CH score:  3.2484061723865434\n",
      "n= 15 :  CH score:  5.139156460339512\n",
      "n= 16 :  CH score:  2.8802197264202785\n",
      "n= 17 :  CH score:  5.037054663711006\n",
      "n= 18 :  CH score:  2.807188946585028\n",
      "n= 19 :  CH score:  3.246716992138536\n",
      "n= 20 :  CH score:  2.393677366974595\n"
     ]
    }
   ],
   "source": [
    "spec_CH = []\n",
    "for n in range(2, 21):\n",
    "    data_copy = data.copy()\n",
    "    spectral = SpectralClustering(\n",
    "        n_clusters=n,assign_labels='discretize', random_state=0).fit(data)\n",
    "    #kmeans.fit(data)\n",
    "    labels = spectral.labels_\n",
    "\n",
    "    #2)\n",
    "    CHScore = metrics.calinski_harabasz_score(data, labels)\n",
    "\n",
    "    print('n=', n, ': ', 'CH score: ', CHScore)\n",
    "    spec_CH.append(CHScore)\n",
    "    #print(type(labels))\n",
    "\n",
    "# it appears that n=2 is also optimal in spectral clustering, \n",
    "# and that alternative n are worse off than they are in kmeans\n"
   ]
  },
  {
   "cell_type": "code",
   "execution_count": null,
   "metadata": {},
   "outputs": [],
   "source": [
    "#latex friendly print\n",
    "#type(labels)\n",
    "for i in range(len(kmeans_CH)):\n",
    "    print(i+2, ' & ', round(kmeans_CH[i],2),' & ',round(spec_CH[i],2),'\\\\\\\\')\n",
    "    print('\\hline')\n",
    "\n"
   ]
  },
  {
   "cell_type": "markdown",
   "metadata": {},
   "source": [
    "## Pt VI\n",
    "## Q 9"
   ]
  },
  {
   "cell_type": "code",
   "execution_count": 164,
   "metadata": {},
   "outputs": [],
   "source": [
    "import matplotlib.pyplot as plt\n"
   ]
  },
  {
   "cell_type": "code",
   "execution_count": 175,
   "metadata": {},
   "outputs": [
    {
     "data": {
      "image/png": "[encoded data removed]",
      "text/plain": [
       "<Figure size 432x288 with 1 Axes>"
      ]
     },
     "metadata": {
      "needs_background": "light"
     },
     "output_type": "display_data"
    }
   ],
   "source": [
    "# pd.tools.plotting.parallel_coordinates(\n",
    "#     df[['mpg', 'displacement', 'cylinders', 'horsepower', 'weight', 'acceleration']],\n",
    "#     'mpg')\n",
    "data = pd.read_csv('./state_topic_score_df.csv')\n",
    "#, index_col='state'\n",
    "\n",
    "plot = pd.plotting.parallel_coordinates(data, 'state')\n",
    "plot.legend_.remove()\n",
    "plt.show()\n"
   ]
  },
  {
   "cell_type": "code",
   "execution_count": 177,
   "metadata": {},
   "outputs": [
    {
     "data": {
      "image/png": "[encoded data removed]",
      "text/plain": [
       "<Figure size 432x288 with 1 Axes>"
      ]
     },
     "metadata": {
      "needs_background": "light"
     },
     "output_type": "display_data"
    }
   ],
   "source": [
    "data = pd.read_csv('./region_topic_score_df.csv')\n",
    "\n",
    "plot = pd.plotting.parallel_coordinates(data, 'region')\n",
    "plot.legend_.remove()\n",
    "plt.show()\n"
   ]
  },
  {
   "cell_type": "markdown",
   "metadata": {},
   "source": [
    "## extras"
   ]
  },
  {
   "cell_type": "code",
   "execution_count": 181,
   "metadata": {},
   "outputs": [
    {
     "data": {
      "image/png": "[encoded data removed]",
      "text/plain": [
       "<Figure size 432x288 with 1 Axes>"
      ]
     },
     "metadata": {
      "needs_background": "light"
     },
     "output_type": "display_data"
    }
   ],
   "source": [
    "day_topic_score_df.to_csv('./day_topic_score.csv')\n",
    "data = pd.read_csv('./day_topic_score.csv')\n",
    "\n",
    "plot = pd.plotting.parallel_coordinates(data, 'day')\n",
    "plot.legend_.remove()\n",
    "plt.show()\n"
   ]
  },
  {
   "cell_type": "code",
   "execution_count": 182,
   "metadata": {},
   "outputs": [
    {
     "data": {
      "text/plain": [
       "<AxesSubplot:xlabel='day'>"
      ]
     },
     "execution_count": 182,
     "metadata": {},
     "output_type": "execute_result"
    },
    {
     "data": {
      "image/png": "[encoded data removed]",
      "text/plain": [
       "<Figure size 432x288 with 1 Axes>"
      ]
     },
     "metadata": {
      "needs_background": "light"
     },
     "output_type": "display_data"
    }
   ],
   "source": [
    "data.plot(x='day')"
   ]
  },
  {
   "cell_type": "markdown",
   "metadata": {},
   "source": [
    "## Q11"
   ]
  },
  {
   "cell_type": "code",
   "execution_count": 132,
   "metadata": {},
   "outputs": [],
   "source": [
    "from sklearn.decomposition import PCA\n",
    "#from matplotlib import pyplot as plt\n",
    "import seaborn as sb\n",
    "from sklearn import preprocessing\n"
   ]
  },
  {
   "cell_type": "code",
   "execution_count": 135,
   "metadata": {},
   "outputs": [
    {
     "data": {
      "text/plain": [
       "<AxesSubplot:>"
      ]
     },
     "execution_count": 135,
     "metadata": {},
     "output_type": "execute_result"
    },
    {
     "data": {
      "image/png": "[encoded data removed]",
      "text/plain": [
       "<Figure size 432x288 with 1 Axes>"
      ]
     },
     "metadata": {
      "needs_background": "light"
     },
     "output_type": "display_data"
    }
   ],
   "source": [
    "data_pca = PCA(n_components=2).fit_transform(data)\n",
    "pca_dim1 = [row[0] for row in data_pca]\n",
    "pca_dim2 = [row[1] for row in data_pca]\n",
    "\n",
    "sb.scatterplot(data=data_kmeans, x=pca_dim1, y=pca_dim2,\n",
    "               hue='labels', palette=\"deep\")\n"
   ]
  },
  {
   "cell_type": "code",
   "execution_count": 136,
   "metadata": {},
   "outputs": [
    {
     "data": {
      "text/plain": [
       "<AxesSubplot:>"
      ]
     },
     "execution_count": 136,
     "metadata": {},
     "output_type": "execute_result"
    },
    {
     "data": {
      "image/png": "[encoded data removed]",
      "text/plain": [
       "<Figure size 432x288 with 1 Axes>"
      ]
     },
     "metadata": {
      "needs_background": "light"
     },
     "output_type": "display_data"
    }
   ],
   "source": [
    "data_pca = PCA(n_components=2).fit_transform(data)\n",
    "pca_dim1 = [row[0] for row in data_pca]\n",
    "pca_dim2 = [row[1] for row in data_pca]\n",
    "\n",
    "sb.scatterplot(data=data_spectral, x=pca_dim1, y=pca_dim2,\n",
    "               hue='labels', palette=\"deep\")\n"
   ]
  },
  {
   "cell_type": "markdown",
   "metadata": {},
   "source": [
    "NOTE\n"
   ]
  },
  {
   "cell_type": "code",
   "execution_count": null,
   "metadata": {},
   "outputs": [],
   "source": [
    "#start Timer\n",
    "start_time = time.time()\n",
    "\n",
    "elapsed_time = time.time() - start_time\n",
    "elapsed_time\n"
   ]
  }
 ],
 "metadata": {
  "interpreter": {
   "hash": "5336f7fdd4288d794d8a223867d5c29f87bd1c8df6e341cc3223c0dba3028cf2"
  },
  "kernelspec": {
   "display_name": "Python 3.8.8 64-bit ('base': conda)",
   "name": "python3"
  },
  "language_info": {
   "codemirror_mode": {
    "name": "ipython",
    "version": 3
   },
   "file_extension": ".py",
   "mimetype": "text/x-python",
   "name": "python",
   "nbconvert_exporter": "python",
   "pygments_lexer": "ipython3",
   "version": "3.8.8"
  },
  "orig_nbformat": 4
 },
 "nbformat": 4,
 "nbformat_minor": 2
}
