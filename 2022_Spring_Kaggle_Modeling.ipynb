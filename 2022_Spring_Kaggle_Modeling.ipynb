{
  "nbformat": 4,
  "nbformat_minor": 0,
  "metadata": {
    "colab": {
      "name": "ensem.ipynb",
      "provenance": [],
      "collapsed_sections": []
    },
    "kernelspec": {
      "name": "python3",
      "display_name": "Python 3"
    },
    "language_info": {
      "name": "python"
    }
  },
  "cells": [
    {
      "cell_type": "code",
      "execution_count": null,
      "metadata": {
        "id": "rVxieedbYRCP"
      },
      "outputs": [],
      "source": [
        "import pandas as pd\n",
        "import numpy as np\n",
        "from scipy import sparse"
      ]
    },
    {
      "cell_type": "code",
      "source": [
        "#imported from prev notebooks\n",
        "x_test = sparse.load_npz('./hash_test.npz')\n",
        "x_train = sparse.load_npz('./hash_train.npz')\n",
        "df_train = pd.read_csv('/content/drive/MyDrive/Colab Notebooks/train_clean.csv',index_col = 0)\n",
        "df_test = pd.read_csv('/content/drive/MyDrive/Colab Notebooks/test_clean.csv',index_col = 0)\n",
        "y = df_train['party_id']\n"
      ],
      "metadata": {
        "id": "CYx6DcE1YTAl"
      },
      "execution_count": null,
      "outputs": []
    },
    {
      "cell_type": "code",
      "source": [
        "#model persistence\n",
        "from joblib import dump, load\n",
        "\n",
        "dump(clf, '/content/drive/MyDrive/Colab Notebooks/alt_01.joblib') \n",
        "#clf_naive = load('/content/drive/MyDrive/Colab Notebooks/2000_1_2.joblib')"
      ],
      "metadata": {
        "id": "9z_OEG7XjQnC",
        "colab": {
          "base_uri": "https://localhost:8080/"
        },
        "outputId": "71948cfd-1964-4b3c-a19b-27837980ff3f"
      },
      "execution_count": 42,
      "outputs": [
        {
          "output_type": "execute_result",
          "data": {
            "text/plain": [
              "['/content/drive/MyDrive/Colab Notebooks/alt_01.joblib']"
            ]
          },
          "metadata": {},
          "execution_count": 42
        }
      ]
    },
    {
      "cell_type": "code",
      "source": [
        "# prediction of the best naive method\n",
        "naive_result = np.genfromtxt('/content/drive/MyDrive/Colab Notebooks/naive_log.csv')\n",
        "naive_result"
      ],
      "metadata": {
        "colab": {
          "base_uri": "https://localhost:8080/"
        },
        "id": "ya8P-zU31NFj",
        "outputId": "2528d15e-7142-48ab-babc-c117ea1a7f6c"
      },
      "execution_count": 57,
      "outputs": [
        {
          "output_type": "execute_result",
          "data": {
            "text/plain": [
              "array([9.38390914e-01, 5.25806041e-05, 9.61674199e-03, ...,\n",
              "       5.89605740e-01, 9.96440151e-01, 9.29616675e-01])"
            ]
          },
          "metadata": {},
          "execution_count": 57
        }
      ]
    },
    {
      "cell_type": "code",
      "source": [
        "from sklearn.linear_model import LogisticRegressionCV\n",
        "\n",
        "#set parameter for linear regression\n",
        "clf = LogisticRegressionCV(cv=5, random_state=265, \n",
        "            max_iter = 1000, n_jobs = -1).fit(x_train, y)\n",
        "\n",
        "prediction = clf.predict(x_test)\n"
      ],
      "metadata": {
        "id": "lmCtq0qXglIf"
      },
      "execution_count": null,
      "outputs": []
    },
    {
      "cell_type": "code",
      "source": [
        "ensemble = []\n",
        "for i in range(len(prediction_hash)):\n",
        "  new_val = (naive_result[i]+prediction_hash[i])/2.0\n",
        "  label = ''\n",
        "  if(new_val >= 0.5): label = 'R'\n",
        "  else: label = 'D'\n",
        "  ensemble.append(label)"
      ],
      "metadata": {
        "id": "KLH9J0ad13Pd"
      },
      "execution_count": 67,
      "outputs": []
    },
    {
      "cell_type": "code",
      "source": [
        "df_submission = pd.DataFrame({'id': df_test['Id'].tolist(), 'party': ensemble})\n",
        "df_submission.to_csv('/content/drive/MyDrive/Colab Notebooks/submission_ens_01.csv',index=False)"
      ],
      "metadata": {
        "id": "-aa9BGsZrciR"
      },
      "execution_count": 68,
      "outputs": []
    }
  ]
}